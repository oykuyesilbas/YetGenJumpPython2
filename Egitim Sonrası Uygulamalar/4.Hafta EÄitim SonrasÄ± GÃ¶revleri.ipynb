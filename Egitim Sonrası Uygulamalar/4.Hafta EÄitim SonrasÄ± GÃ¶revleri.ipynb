{
 "cells": [
  {
   "cell_type": "markdown",
   "metadata": {},
   "source": [
    "# Problem 1\n",
    "`ogrenciler` adında bir sözlük oluşturunuz. Kullanıcıdan döngü yardımıyla 3 öğrenci için veri girmesini isteyerek öğrencilerin sırasıyla okul numarası, isim, soy isim, telefon numarası ve doğum tarihi bilgilerini alınız. Aldığınız öğrenci bilgilerini yine aynı döngü yardımıyla `ogrenciler` adındaki sözlükte saklayınız. Daha sonra öğrenci bilgilerinin bulunduğu sözlük yapısını ekrana bastırınız.\n",
    "\n"
   ]
  },
  {
   "cell_type": "code",
   "execution_count": 3,
   "metadata": {},
   "outputs": [
    {
     "name": "stdout",
     "output_type": "stream",
     "text": [
      "{0: {'No': '1', 'İsim': '1', 'Soy isim': '1', 'Telefon numarası': '1', 'Doğum tarihi': '1'}, 1: {'No': '2', 'İsim': '2', 'Soy isim': '2', 'Telefon numarası': '2', 'Doğum tarihi': '2'}, 2: {'No': '3', 'İsim': '3', 'Soy isim': '3', 'Telefon numarası': '3', 'Doğum tarihi': '3'}}\n"
     ]
    }
   ],
   "source": [
    "# 1.Problemin Çözümünü Buraya Yazınız\n",
    " \n",
    "ogrenciler = {}\n",
    "\n",
    "for i in range(3):\n",
    "    okulNum = input(\"Okul numaranızı giriniz: \")\n",
    "    isim = input(\"İsminizi giriniz: \")\n",
    "    soy_isim = input(\"Soyisminizi giriniz: \")\n",
    "    telNo = input(\"Telefon numaranızı giriniz: \")\n",
    "    dogTar = input(\"Doğum tarihinizi giriniz: \")\n",
    "\n",
    "    ogrenciler[i] = {\n",
    "        \"No\": okulNum,\n",
    "        \"İsim\": isim,\n",
    "        \"Soy isim\": soy_isim,\n",
    "        \"Telefon numarası\": telNo,\n",
    "        \"Doğum tarihi\": dogTar\n",
    "    }\n",
    "print(ogrenciler)\n",
    "\n"
   ]
  },
  {
   "cell_type": "markdown",
   "metadata": {},
   "source": [
    "# Problem 2\n",
    "\n",
    "### a - Biraz ısınarak başlayalım!\n",
    "\n",
    "```\n",
    "numbers = [5,10,10,15,15,15,20,20,20,20]\n",
    "```\n",
    "\n",
    "Yukarıda `numbers` adında 10 elemanlı bir liste verilmiştir. Bu listenin her elemanını kontrol eden ve tekrar eden elemanları bir kez olacak şekilde başka bir listeye kopyalayan bir program yazınız. Son olarak oluşturduğunuz listeyi ekrana bastırınız.\n",
    "\n",
    "\n",
    "\n",
    "\n",
    "```\n",
    ">Output\n",
    "[5, 10, 15, 20]\n",
    "```\n"
   ]
  },
  {
   "cell_type": "code",
   "execution_count": 7,
   "metadata": {},
   "outputs": [
    {
     "name": "stdout",
     "output_type": "stream",
     "text": [
      "[5, 10, 15, 20]\n"
     ]
    }
   ],
   "source": [
    "# 2.Problemin a Şıkkının Çözümünü Buraya Yazınız\n",
    "\n",
    "numbers = [5,10,10,15,15,15,20,20,20,20]\n",
    "\n",
    "liste = []\n",
    "\n",
    "for number in numbers:\n",
    "    if number in liste:\n",
    "        continue\n",
    "    else:\n",
    "        liste.append(number)\n",
    "\n",
    "print(liste)\n"
   ]
  },
  {
   "cell_type": "markdown",
   "metadata": {},
   "source": [
    "### 🌶️ b) Hadi işi biraz daha zorlaştıralım! \n",
    "\n",
    "\n",
    "Şimdiyse senden `numbers` isimli listedeki tekrar eden elemanları `repeatNumbers` adındaki listeye; tekrar etmeyen elemanları `uniqueNumbers`adındaki listeye kopyalayan yazmanı ve listeleri ekrana bastırmanı bekliyoruz\n",
    "\n",
    "```\n",
    ">Output\n",
    "Tekrar Eden Elemanlar: [10, 10, 15, 15, 15, 20, 20, 20, 20]\n",
    "Tekrar Etmeyen Elemanlar: [5]\n",
    "```"
   ]
  },
  {
   "cell_type": "code",
   "execution_count": 10,
   "metadata": {},
   "outputs": [
    {
     "name": "stdout",
     "output_type": "stream",
     "text": [
      "Tekrar edenler: [10, 10, 15, 15, 15, 20, 20, 20, 20]\n",
      "Tekrar etmeyenler: [5]\n"
     ]
    }
   ],
   "source": [
    "# 2.Problemin b Şıkkının Çözümünü Buraya Yazınız\n",
    "\n",
    "numbers = [5,10,10,15,15,15,20,20,20,20]\n",
    "\n",
    "repeatNumbers = []\n",
    "\n",
    "uniqueNumbers = []\n",
    "\n",
    "for number in numbers:\n",
    "    if numbers.count(number) == 1:\n",
    "        uniqueNumbers.append(number)\n",
    "    else:\n",
    "        repeatNumbers.append(number)\n",
    "\n",
    "print(f\"Tekrar edenler: {repeatNumbers}\")\n",
    "\n",
    "print(f\"Tekrar etmeyenler: {uniqueNumbers}\")\n",
    "\n"
   ]
  },
  {
   "cell_type": "markdown",
   "metadata": {},
   "source": [
    "# Problem 3\n",
    "sn1 = {1,2,3,4,5}\n",
    "\n",
    "sn2 = {4,5,6,7,8}\n",
    "\n",
    " Verilen 2 adet küme için kesişimlerini, farklarını ve birleşimlerini bulunuz. "
   ]
  },
  {
   "cell_type": "code",
   "execution_count": 13,
   "metadata": {},
   "outputs": [
    {
     "name": "stdout",
     "output_type": "stream",
     "text": [
      "Kesişim kümesi: {4, 5} Fark kümesi:{1, 2, 3} Birleşim kümesi:{1, 2, 3, 4, 5, 6, 7, 8}\n"
     ]
    }
   ],
   "source": [
    "# 3.Problemin Çözümünü Buraya Yazınız\n",
    "\n",
    "sn1 = {1,2,3,4,5}\n",
    "\n",
    "sn2 = {4,5,6,7,8}\n",
    "\n",
    "kesisim = sn1.intersection(sn2)\n",
    "\n",
    "fark= sn1.difference(sn2)\n",
    "\n",
    "birlesim = sn1.union(sn2)\n",
    "\n",
    "print(f\"Kesişim kümesi: {kesisim}\",\n",
    "       f\"Fark kümesi:{fark}\",\n",
    "       f\"Birleşim kümesi:{birlesim}\")\n",
    "\n"
   ]
  },
  {
   "cell_type": "markdown",
   "metadata": {},
   "source": [
    "# Problem 4\n",
    "\n",
    "Buradaki işlemlerimizin tamamı stringler içindir. Aşağıda verilecek olan metodlar için kendinizin örnek yaratması gerekmektedir. \n",
    "\n",
    "Örneğin `upper` için `string` değişkeni oluştururken` k = \"BAC\"` şeklinde oluşturmayınız. Bunun yerine k değişkenini `k = \"bac`\" şeklinde oluşturmanız `upper` metodundaki değişimi görebilmeniz için daha iyi olacaktır.\n",
    "\n",
    "Bütün metodlardaki değişimin gözle görülür şekilde değişimi beklenmektedir.\n",
    "\n",
    "\n",
    "1- capitalize(), lower(), upper(), swapcase(), title(), replace()\n",
    "\n",
    "2- endswith(), startswith(), find(), index(), count()\n",
    "\n",
    "3- split(), strip(), join(), islower(), isalpha(), isdigit()\n",
    "\n",
    "\n",
    "Yukarıdaki `string` metodlarındaki değişimleri görebildiğimiz bir program yazınız.\n"
   ]
  },
  {
   "cell_type": "code",
   "execution_count": 1,
   "metadata": {},
   "outputs": [
    {
     "name": "stdout",
     "output_type": "stream",
     "text": [
      "False\n",
      "False\n",
      "False\n",
      "True\n"
     ]
    }
   ],
   "source": [
    "# 4.Problemin Çözümünü Buraya Yazınız\n",
    "\n",
    "k = \"İstanbul Teknik Üniversitesi\"\n",
    "#print(k)\n",
    "\n",
    "#print(k.capitalize())\n",
    "\n",
    "#print(k.lower())\n",
    "\n",
    "#print(k.upper())\n",
    "\n",
    "#print(k.swapcase())\n",
    "\n",
    "#print(k.title())\n",
    "\n",
    "#print(k.replace(\"İstanbul\", \"İst.\"))\n",
    "\n",
    "#print(k.endswith(\"Üniversitesi\"))\n",
    "\n",
    "#print(k.startswith(\"İstanbull\"))\n",
    "\n",
    "#print(k.find(\"Teknik\"))\n",
    "\n",
    "#print(k.count(\"t\"))\n",
    "\n",
    "#print(k.split(\" \"))\n",
    "\n",
    "#k = \"       İstanbul Teknik Üniversitesi        \"\n",
    "\n",
    "#k = k.strip()\n",
    "\n",
    "#print(k)\n",
    "\n",
    "#l = (\"İstanbul\", \"Teknik\", \"Üniversitesi\")\n",
    "#print(\"#\".join(l))\n",
    "\n",
    "print(k.islower())\n",
    "\n",
    "print(k.isalpha())\n",
    "\n",
    "print(k.isdigit())\n",
    "\n",
    "print(k.lower().islower())\n",
    "      \n",
    "\n",
    "\n",
    "\n",
    "\n"
   ]
  }
 ],
 "metadata": {
  "kernelspec": {
   "display_name": "Python 3.10.5 64-bit",
   "language": "python",
   "name": "python3"
  },
  "language_info": {
   "codemirror_mode": {
    "name": "ipython",
    "version": 3
   },
   "file_extension": ".py",
   "mimetype": "text/x-python",
   "name": "python",
   "nbconvert_exporter": "python",
   "pygments_lexer": "ipython3",
   "version": "3.11.1"
  },
  "orig_nbformat": 4,
  "vscode": {
   "interpreter": {
    "hash": "5026d2d6e7aaaaba093def813beadff083d8733e4a511af01735cbabd156995d"
   }
  }
 },
 "nbformat": 4,
 "nbformat_minor": 2
}
