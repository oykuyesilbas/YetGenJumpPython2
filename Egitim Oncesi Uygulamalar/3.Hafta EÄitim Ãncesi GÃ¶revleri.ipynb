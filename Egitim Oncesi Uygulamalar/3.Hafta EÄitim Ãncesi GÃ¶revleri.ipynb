{
  "cells": [
    {
      "cell_type": "markdown",
      "metadata": {
        "id": "tsD4YVAe_Te2"
      },
      "source": [
        "# Problem 1\n",
        "Bir sayının 7'ye bölünebilir olup olmadığını kontrol etmek \n",
        "için bir program yazın.\n",
        "\n",
        "İpucu: Mod operatörünü (%) kullanabilirsiniz."
      ]
    },
    {
      "cell_type": "code",
      "execution_count": 1,
      "metadata": {
        "id": "NGjvNwKx_Te7"
      },
      "outputs": [
        {
          "name": "stdout",
          "output_type": "stream",
          "text": [
            "Sayı 7'ye tam bölünmez.\n"
          ]
        }
      ],
      "source": [
        "# 1.Problemin Çözümünü Buraya Yazınız\n",
        "a = int(input(\"Bir sayı giriniz: \"))\n",
        "b = int(7)\n",
        "if int(0 < a < b):\n",
        "    print(\"Sayı 7'ye tam bölünmez.\")\n",
        "elif a % b == 0:\n",
        "    print(\"Sayı 7'ye tam bölünür.\")\n",
        "else:\n",
        "    a % b != 0\n",
        "    print(\"Sayı 7'ye tam bölünmez.\")"
      ]
    },
    {
      "cell_type": "markdown",
      "metadata": {
        "id": "Kg3qiBAI_Te8"
      },
      "source": [
        "# Problem 2\n",
        "Kullanıcıdan vize ve final notu isteyin. Girilen vize notunun %40’ı ve \n",
        "girilen finalnotunun ise %60’ı alınarak yıl sonu not ortalaması hesaplanacaktır. \n",
        "\n",
        "Bu not ortalaması eğer 85 ve üzeri ise AA, \n",
        "\n",
        "75 ve 85 arasında ise BA, \n",
        "\n",
        "70 ve 75 arasında ise BB, \n",
        "\n",
        "65 ve 70 arasında ise CB,\n",
        "\n",
        "60 ve 65 arasında ise CC,\n",
        "\n",
        "55 ve 60 arasında ise DC,\n",
        "\n",
        "50 ve 55 arasında ise DD olarak hesaplanacaktır. \n",
        "\n",
        "Bu öğrencinin yıl sonu toplam notu 50’nin altında ise FF ile dersten kalacaktır. \n",
        "\n",
        "Ayrıca öğrencinin final notu 50’nin altında ise direkt FF ile kalacaktır."
      ]
    },
    {
      "cell_type": "code",
      "execution_count": 2,
      "metadata": {
        "id": "MXTtCxI1_Te8"
      },
      "outputs": [
        {
          "name": "stdout",
          "output_type": "stream",
          "text": [
            "Yıl sonu ortalamanız 99.1\n",
            "Ders harf notunuz AA.\n"
          ]
        }
      ],
      "source": [
        "# 2.Problemin Çözümünü Buraya Yazınız\n",
        "a = float (input(\"Vize notunuzu giriniz: \"))\n",
        "\n",
        "b = float (input(\"Final notunuzu giriniz: \"))\n",
        "\n",
        "yılSonuNotOrt = (a * 4 / 10) + (b * 6 / 10)\n",
        "\n",
        "print(\"Yıl sonu ortalamanız {}\".format(yılSonuNotOrt))\n",
        "\n",
        "if b < 50:\n",
        "    print(\"Ders harf notunuz FF.\")\n",
        "elif yılSonuNotOrt < 50:\n",
        "    print(\"Ders harf notunuz FF.\")\n",
        "elif yılSonuNotOrt >= 85:\n",
        "    print(\"Ders harf notunuz AA.\")\n",
        "elif 75 >= yılSonuNotOrt > 85:\n",
        "    print(\"Ders harf notunuz BA.\")\n",
        "elif 70 >= yılSonuNotOrt > 75:\n",
        "    print(\"Ders harf notunuz BB.\")\n",
        "elif 65 >= yılSonuNotOrt > 70:\n",
        "    print(\"Ders harf notunuz CB.\")\n",
        "elif 60>= yılSonuNotOrt > 65:\n",
        "    print(\"Ders harf notunuz CC.\")\n",
        "elif 55 >= yılSonuNotOrt > 60:\n",
        "    print(\"Ders harf notunuz DC.\")\n",
        "elif 50 >= yılSonuNotOrt > 55:\n",
        "    print(\"Ders harf notunuz DD.\")\n",
        "    "
      ]
    },
    {
      "cell_type": "markdown",
      "metadata": {
        "id": "tAoRYCTC_Te8"
      },
      "source": [
        "# Problem 3\n",
        "İki YetGenli Zirve'de karşılaşıyorlar. Birbirlerini tanımak için sorular soruyorlar. Birbirlerine yaşlarını soruyorlar. Akıllarına bir Python programı yazıp, yaşlarını ve isimlerini giriyorlar. Büyük olanın yaşını ekrana yazdıran programı yazıyorlar. Sende bu iki YetGenli'ye destek olmak ister misin?\n",
        "\n",
        "```\n",
        "Birinci YetGenlinin ismi: Ahmet\n",
        "Birinci YetGenlinin yaşı : 20\n",
        "İkinci YetGenlinin ismi: Mehmet\n",
        "İkinci YetGenlinin yaşı : 25\n",
        "Mehmet'in yaşı daha büyük ve yaşı 25'tir.\n",
        "```"
      ]
    },
    {
      "cell_type": "code",
      "execution_count": 17,
      "metadata": {
        "id": "bPjE8W0i_Te8"
      },
      "outputs": [
        {
          "name": "stdout",
          "output_type": "stream",
          "text": [
            "Öykü ve Ceyda aynı yaştadır.\n"
          ]
        }
      ],
      "source": [
        "a = input(\"1. kişinin adını giriniz: \")\n",
        "\n",
        "b = input(\"1. kişinin yaşını giriniz: \")\n",
        "\n",
        "c = input(\"2. kişinin adını giriniz: \")\n",
        "\n",
        "d = input(\"2. kişinin yaşını giriniz: \")\n",
        "\n",
        "if b > d:\n",
        "    print(\"{} daha büyüktür ve {} yaşındadır.\".format(a, b))\n",
        "elif d > b:\n",
        "    print(\"{} daha büyüktür ve {} yaşındadır.\".format(c, d))\n",
        "elif b == d:\n",
        "    print(\"{} ve {} aynı yaştadır.\".format(a, c))\n",
        "    \n"
      ]
    },
    {
      "cell_type": "markdown",
      "metadata": {
        "id": "zBVv8Tyg_Te9"
      },
      "source": [
        "# Problem 4\n",
        "Pandemi döneminde AVM'lerde ateş ölçümü yapılıyor. AVM'ye giren kişinin ateş ölçümü 37.5 derecenin altında ise girişe izin veriliyor. 37.5 derecenin üstünde ise girişe izin verilmiyor. AVM'ye girişe izin verilip verilmediğini ekrana yazdıran bir program yazın.\n",
        "\n",
        "Program sonunda şöyle bir çıktı elde etmelisiniz:\n",
        "\n",
        "```\n",
        "Ateşiniz 37.5 derece. AVM'ye girebilirsin! Maske takmayı unutma!\n",
        "Ateşiniz 37.6 derece. AVM'ye giremezsin! Hemen evine dön!\n",
        "```"
      ]
    },
    {
      "cell_type": "code",
      "execution_count": 6,
      "metadata": {
        "id": "TSAXs8et_Te9"
      },
      "outputs": [
        {
          "name": "stdout",
          "output_type": "stream",
          "text": [
            "Ateşiniz 38.0 derece. AVM'ye giremezsin! Hemen evine dön!\n"
          ]
        }
      ],
      "source": [
        "ates_olcumu = float(input(\"Ateş kaç derece? \"))\n",
        "\n",
        "if ates_olcumu > 37.5:\n",
        "    print(\"Ateşiniz {} derece. AVM'ye giremezsin! Hemen evine dön!\".format(ates_olcumu))\n",
        "else:\n",
        "    print(\"Ateşiniz {} derece. AVM'ye girebilirsin. Maske takmayı unutma! \".format(ates_olcumu))"
      ]
    },
    {
      "cell_type": "markdown",
      "metadata": {
        "id": "6AEkZrDt_Te9"
      },
      "source": [
        "# Problem 5\n",
        "YetGen bir spor kulübüyle sponsorluk anlaşması yapıyor. Kulüp, sponsorluk anlaşmasına göre her YetGen liderinin beden kitle indeksini hesaplamak istiyor. Spor kulübü, beden kitle indeksini hesaplamak için YetGen Jump Python liderlerinden Berkcan ve Ahmet'i arıyor. Berkcan ve Ahmet, kulübe yardımcı olmak için bir Python programı yazıyorlar. Sende bu iki YetGen liderine destek olmak ister misin?\n",
        "\n",
        "Kullanıcıdan alınan boy ve kilo değerlerine göre beden kitle indeksini hesaplayın ve şu kurallara göre ekrana şu yazıları yazdırın.\n",
        "\n",
        "\n",
        "Beden Kitle İndeksi, kişinin ağırlığının (kg olarak) boyunun karesine (m olarak) bölünmesiyle hesaplanır.\n",
        "\n",
        "\n",
        "```\n",
        " BKİ 18.5'un altındaysa -------> Zayıf\n",
        "\n",
        " BKİ 18.5 ile 25 arasındaysa ------> Normal\n",
        "\n",
        " BKİ 25 ile 30 arasındaysa --------> Fazla Kilolu\n",
        "\n",
        " BKİ 30'un üstündeyse -------------> Obez\n",
        "```\n",
        "\n"
      ]
    },
    {
      "cell_type": "code",
      "execution_count": 5,
      "metadata": {
        "id": "t-XPI_u0_Te-"
      },
      "outputs": [
        {
          "name": "stdout",
          "output_type": "stream",
          "text": [
            "Beden kitle indeksiniz 15.306122448979593\n",
            "Zayıf.\n"
          ]
        }
      ],
      "source": [
        "a = float(input(\"Kaç kilosunuz? \"))\n",
        "\n",
        "b = int(input(\"Boyunuz kaç cm? \"))\n",
        "\n",
        "bki = a / (b/100)**2\n",
        "print(\"Beden kitle indeksiniz {}\".format(bki))\n",
        "\n",
        "if bki < 18.5:\n",
        "    print(\"Zayıf.\")\n",
        "elif 18.5 <= bki < 25:\n",
        "    print(\"Normal.\")\n",
        "elif 25 <= bki < 30:\n",
        "    print(\"Fazla kilolu.\")\n",
        "elif bki >= 30:\n",
        "    print(\"Obez\")\n",
        "\n",
        "        "
      ]
    },
    {
      "cell_type": "markdown",
      "metadata": {
        "id": "oFsvQyaO_Te-"
      },
      "source": [
        "# Problem 6\n",
        "Kullanıcıdan isim, yaş ve eğitim bilgilerini isteyip ehliyet alabilme  durumunu kontrol ediniz. \n",
        "\n",
        "Ehliyet alma koşulu en az 18 yaşında ve eğitim durumu lise ya da üniversite olmalıdır. "
      ]
    },
    {
      "cell_type": "code",
      "execution_count": 2,
      "metadata": {
        "id": "Tu2mcgco_Te-"
      },
      "outputs": [
        {
          "name": "stdout",
          "output_type": "stream",
          "text": [
            "Merhaba Öykü. Ehliyet alamazsın.\n"
          ]
        }
      ],
      "source": [
        "a = input(\"İsminizi giriniz: \")\n",
        "\n",
        "b = int(input(\"Yaşınızı giriniz: \"))\n",
        "\n",
        "c = str(input(\"Eğitim durumunuz nedir? \"))\n",
        "\n",
        "if b >= 18 and (c == str(\"lise\") or c == str(\"Lise\") or c == str(\"LİSE\") or c == str(\"Üniversite\") or c == str(\"üniversite\") or c == str(\"ÜNİVERSİTE\")):\n",
        "    print(\"Merhaba {}! Ehliyet alabilirsin.\".format(a))\n",
        "\n",
        "else:\n",
        "    print(\"Merhaba {}. Ehliyet alamazsın.\".format(a))\n"
      ]
    },
    {
      "cell_type": "markdown",
      "metadata": {
        "id": "eUkxVSAE_Te_"
      },
      "source": [
        "# Problem 7\n",
        "Bir yılın artık yıl olup olmadığını kontrol etmek için bir program yazın. \n",
        "Artık yıl kuralı:\n",
        "\n",
        "a) Eğer yılın son iki basamağı (00) ile bitmiyor ve yalnızca 4'e tam bölünüyorsa artık yıldır. Ya da, \n",
        "\n",
        "b) Eğer yıl 400'e tam bölünüyorsa artık yıldır.\n",
        "\n",
        "**Örneğin**\n",
        "```\n",
        "2017 artık yıl değildir.\n",
        "1900 artık yıl değildir\n",
        "2012 artık yıldır.\n",
        "2000 artık yıldır.\n",
        "```"
      ]
    },
    {
      "cell_type": "code",
      "execution_count": 4,
      "metadata": {
        "id": "4uWh8qUL_Te_"
      },
      "outputs": [
        {
          "name": "stdout",
          "output_type": "stream",
          "text": [
            "1600 artık yıldır.\n"
          ]
        }
      ],
      "source": [
        "a = int(input(\"Artık yıl olup olmadığını kontrol etmek istediğiniz yılı girin: \"))\n",
        "\n",
        "if a % 4 == 0 or a % 400 == 0:\n",
        "    print(\"{} artık yıldır.\".format(a))\n",
        "else:\n",
        "    print(\"{} artık yıl değildir.\".format(a))\n",
        "    \n",
        "\n"
      ]
    }
  ],
  "metadata": {
    "colab": {
      "provenance": []
    },
    "kernelspec": {
      "display_name": "Python 3.10.5 64-bit",
      "language": "python",
      "name": "python3"
    },
    "language_info": {
      "codemirror_mode": {
        "name": "ipython",
        "version": 3
      },
      "file_extension": ".py",
      "mimetype": "text/x-python",
      "name": "python",
      "nbconvert_exporter": "python",
      "pygments_lexer": "ipython3",
      "version": "3.11.1"
    },
    "orig_nbformat": 4,
    "vscode": {
      "interpreter": {
        "hash": "5026d2d6e7aaaaba093def813beadff083d8733e4a511af01735cbabd156995d"
      }
    }
  },
  "nbformat": 4,
  "nbformat_minor": 0
}
